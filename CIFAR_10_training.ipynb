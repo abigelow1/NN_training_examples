{
  "nbformat": 4,
  "nbformat_minor": 0,
  "metadata": {
    "colab": {
      "name": "CIFAR-10_training.ipynb",
      "provenance": [],
      "collapsed_sections": [],
      "authorship_tag": "ABX9TyPrNHUc5sPGe9h/TT+QdR56",
      "include_colab_link": true
    },
    "kernelspec": {
      "name": "python3",
      "display_name": "Python 3"
    },
    "accelerator": "GPU",
    "widgets": {
      "application/vnd.jupyter.widget-state+json": {
        "d7bb11f6a95b4238871e3b7e9ae441f3": {
          "model_module": "@jupyter-widgets/controls",
          "model_name": "HBoxModel",
          "state": {
            "_view_name": "HBoxView",
            "_dom_classes": [],
            "_model_name": "HBoxModel",
            "_view_module": "@jupyter-widgets/controls",
            "_model_module_version": "1.5.0",
            "_view_count": null,
            "_view_module_version": "1.5.0",
            "box_style": "",
            "layout": "IPY_MODEL_24ed0c95b1074072bb7a925b3659185b",
            "_model_module": "@jupyter-widgets/controls",
            "children": [
              "IPY_MODEL_f8942373b01d4cd49904b0fe8ac08405",
              "IPY_MODEL_e1662132a8d7451dbd1cf66472f98c1c"
            ]
          }
        },
        "24ed0c95b1074072bb7a925b3659185b": {
          "model_module": "@jupyter-widgets/base",
          "model_name": "LayoutModel",
          "state": {
            "_view_name": "LayoutView",
            "grid_template_rows": null,
            "right": null,
            "justify_content": null,
            "_view_module": "@jupyter-widgets/base",
            "overflow": null,
            "_model_module_version": "1.2.0",
            "_view_count": null,
            "flex_flow": null,
            "width": null,
            "min_width": null,
            "border": null,
            "align_items": null,
            "bottom": null,
            "_model_module": "@jupyter-widgets/base",
            "top": null,
            "grid_column": null,
            "overflow_y": null,
            "overflow_x": null,
            "grid_auto_flow": null,
            "grid_area": null,
            "grid_template_columns": null,
            "flex": null,
            "_model_name": "LayoutModel",
            "justify_items": null,
            "grid_row": null,
            "max_height": null,
            "align_content": null,
            "visibility": null,
            "align_self": null,
            "height": null,
            "min_height": null,
            "padding": null,
            "grid_auto_rows": null,
            "grid_gap": null,
            "max_width": null,
            "order": null,
            "_view_module_version": "1.2.0",
            "grid_template_areas": null,
            "object_position": null,
            "object_fit": null,
            "grid_auto_columns": null,
            "margin": null,
            "display": null,
            "left": null
          }
        },
        "f8942373b01d4cd49904b0fe8ac08405": {
          "model_module": "@jupyter-widgets/controls",
          "model_name": "IntProgressModel",
          "state": {
            "_view_name": "ProgressView",
            "style": "IPY_MODEL_0c7c27e0885f41f58960a22c97f53606",
            "_dom_classes": [],
            "description": "",
            "_model_name": "IntProgressModel",
            "bar_style": "success",
            "max": 1,
            "_view_module": "@jupyter-widgets/controls",
            "_model_module_version": "1.5.0",
            "value": 1,
            "_view_count": null,
            "_view_module_version": "1.5.0",
            "orientation": "horizontal",
            "min": 0,
            "description_tooltip": null,
            "_model_module": "@jupyter-widgets/controls",
            "layout": "IPY_MODEL_ac6d63fa01564f59b04599b0beaaa3df"
          }
        },
        "e1662132a8d7451dbd1cf66472f98c1c": {
          "model_module": "@jupyter-widgets/controls",
          "model_name": "HTMLModel",
          "state": {
            "_view_name": "HTMLView",
            "style": "IPY_MODEL_2ce3a440e89d48f5a875920c0dd7f8b2",
            "_dom_classes": [],
            "description": "",
            "_model_name": "HTMLModel",
            "placeholder": "​",
            "_view_module": "@jupyter-widgets/controls",
            "_model_module_version": "1.5.0",
            "value": "170500096it [00:06, 25459414.33it/s]",
            "_view_count": null,
            "_view_module_version": "1.5.0",
            "description_tooltip": null,
            "_model_module": "@jupyter-widgets/controls",
            "layout": "IPY_MODEL_93d5a5db99b642dc9c4f96dcbedd72cf"
          }
        },
        "0c7c27e0885f41f58960a22c97f53606": {
          "model_module": "@jupyter-widgets/controls",
          "model_name": "ProgressStyleModel",
          "state": {
            "_view_name": "StyleView",
            "_model_name": "ProgressStyleModel",
            "description_width": "",
            "_view_module": "@jupyter-widgets/base",
            "_model_module_version": "1.5.0",
            "_view_count": null,
            "_view_module_version": "1.2.0",
            "bar_color": null,
            "_model_module": "@jupyter-widgets/controls"
          }
        },
        "ac6d63fa01564f59b04599b0beaaa3df": {
          "model_module": "@jupyter-widgets/base",
          "model_name": "LayoutModel",
          "state": {
            "_view_name": "LayoutView",
            "grid_template_rows": null,
            "right": null,
            "justify_content": null,
            "_view_module": "@jupyter-widgets/base",
            "overflow": null,
            "_model_module_version": "1.2.0",
            "_view_count": null,
            "flex_flow": null,
            "width": null,
            "min_width": null,
            "border": null,
            "align_items": null,
            "bottom": null,
            "_model_module": "@jupyter-widgets/base",
            "top": null,
            "grid_column": null,
            "overflow_y": null,
            "overflow_x": null,
            "grid_auto_flow": null,
            "grid_area": null,
            "grid_template_columns": null,
            "flex": null,
            "_model_name": "LayoutModel",
            "justify_items": null,
            "grid_row": null,
            "max_height": null,
            "align_content": null,
            "visibility": null,
            "align_self": null,
            "height": null,
            "min_height": null,
            "padding": null,
            "grid_auto_rows": null,
            "grid_gap": null,
            "max_width": null,
            "order": null,
            "_view_module_version": "1.2.0",
            "grid_template_areas": null,
            "object_position": null,
            "object_fit": null,
            "grid_auto_columns": null,
            "margin": null,
            "display": null,
            "left": null
          }
        },
        "2ce3a440e89d48f5a875920c0dd7f8b2": {
          "model_module": "@jupyter-widgets/controls",
          "model_name": "DescriptionStyleModel",
          "state": {
            "_view_name": "StyleView",
            "_model_name": "DescriptionStyleModel",
            "description_width": "",
            "_view_module": "@jupyter-widgets/base",
            "_model_module_version": "1.5.0",
            "_view_count": null,
            "_view_module_version": "1.2.0",
            "_model_module": "@jupyter-widgets/controls"
          }
        },
        "93d5a5db99b642dc9c4f96dcbedd72cf": {
          "model_module": "@jupyter-widgets/base",
          "model_name": "LayoutModel",
          "state": {
            "_view_name": "LayoutView",
            "grid_template_rows": null,
            "right": null,
            "justify_content": null,
            "_view_module": "@jupyter-widgets/base",
            "overflow": null,
            "_model_module_version": "1.2.0",
            "_view_count": null,
            "flex_flow": null,
            "width": null,
            "min_width": null,
            "border": null,
            "align_items": null,
            "bottom": null,
            "_model_module": "@jupyter-widgets/base",
            "top": null,
            "grid_column": null,
            "overflow_y": null,
            "overflow_x": null,
            "grid_auto_flow": null,
            "grid_area": null,
            "grid_template_columns": null,
            "flex": null,
            "_model_name": "LayoutModel",
            "justify_items": null,
            "grid_row": null,
            "max_height": null,
            "align_content": null,
            "visibility": null,
            "align_self": null,
            "height": null,
            "min_height": null,
            "padding": null,
            "grid_auto_rows": null,
            "grid_gap": null,
            "max_width": null,
            "order": null,
            "_view_module_version": "1.2.0",
            "grid_template_areas": null,
            "object_position": null,
            "object_fit": null,
            "grid_auto_columns": null,
            "margin": null,
            "display": null,
            "left": null
          }
        }
      }
    }
  },
  "cells": [
    {
      "cell_type": "markdown",
      "metadata": {
        "id": "view-in-github",
        "colab_type": "text"
      },
      "source": [
        "<a href=\"https://colab.research.google.com/github/abigelow1/NN_training_examples/blob/master/CIFAR_10_training.ipynb\" target=\"_parent\"><img src=\"https://colab.research.google.com/assets/colab-badge.svg\" alt=\"Open In Colab\"/></a>"
      ]
    },
    {
      "cell_type": "markdown",
      "metadata": {
        "id": "eACHLvhW-eNM",
        "colab_type": "text"
      },
      "source": [
        "This is a more advanced example of training a net. The caveat about MNIST is you can do really really well just based on linear transformations of the raw pixel values. Solving this problem with neural networks is almost overkill. Let's move into the realm of natural images. We're going to use a dataset called 'CIFAR 10' which consists of 10 categories of images ('bird', 'truck', etc.), each category has five thousand training images and 1000 test images. \n",
        "\n",
        "For more info: https://www.cs.toronto.edu/~kriz/cifar.html\n",
        "\n",
        "For this example, we're going to utilize a GPU (thanks Google!) otherwise this would take way too long. "
      ]
    },
    {
      "cell_type": "code",
      "metadata": {
        "id": "Nn9n3kIg-VWn",
        "colab_type": "code",
        "colab": {}
      },
      "source": [
        "import torch\n",
        "import torchvision\n",
        "import torchvision.transforms as transforms\n",
        "\n",
        "import torch.nn as nn\n",
        "import torch.nn.functional as F\n",
        "import torch.optim as optim\n",
        "\n",
        "import numpy as np\n",
        "import matplotlib.pyplot as plt"
      ],
      "execution_count": 0,
      "outputs": []
    },
    {
      "cell_type": "code",
      "metadata": {
        "id": "3qUpI0SK_USV",
        "colab_type": "code",
        "outputId": "b10aba66-009c-4cc8-e81c-c270c0f1a84a",
        "colab": {
          "base_uri": "https://localhost:8080/",
          "height": 122,
          "referenced_widgets": [
            "d7bb11f6a95b4238871e3b7e9ae441f3",
            "24ed0c95b1074072bb7a925b3659185b",
            "f8942373b01d4cd49904b0fe8ac08405",
            "e1662132a8d7451dbd1cf66472f98c1c",
            "0c7c27e0885f41f58960a22c97f53606",
            "ac6d63fa01564f59b04599b0beaaa3df",
            "2ce3a440e89d48f5a875920c0dd7f8b2",
            "93d5a5db99b642dc9c4f96dcbedd72cf"
          ]
        }
      },
      "source": [
        "transform = transforms.Compose([transforms.ToTensor(), transforms.Normalize((0.5, 0.5, 0.5),(0.5, 0.5, 0.5))])\n",
        "\n",
        "train_set = torchvision.datasets.CIFAR10('./home/',train=True,transform=transform,download=True)\n",
        "train_loader = torch.utils.data.DataLoader(train_set,batch_size=4,shuffle=True)\n",
        "\n",
        "test_set = torchvision.datasets.CIFAR10('./home/',train=False,transform=transform,download=True)\n",
        "test_loader = torch.utils.data.DataLoader(test_set,batch_size=4,shuffle=True)"
      ],
      "execution_count": 0,
      "outputs": [
        {
          "output_type": "stream",
          "text": [
            "Downloading https://www.cs.toronto.edu/~kriz/cifar-10-python.tar.gz to ./home/cifar-10-python.tar.gz\n"
          ],
          "name": "stdout"
        },
        {
          "output_type": "display_data",
          "data": {
            "application/vnd.jupyter.widget-view+json": {
              "model_id": "d7bb11f6a95b4238871e3b7e9ae441f3",
              "version_minor": 0,
              "version_major": 2
            },
            "text/plain": [
              "HBox(children=(IntProgress(value=1, bar_style='info', max=1), HTML(value='')))"
            ]
          },
          "metadata": {
            "tags": []
          }
        },
        {
          "output_type": "stream",
          "text": [
            "\n",
            "Extracting ./home/cifar-10-python.tar.gz to ./home/\n",
            "Files already downloaded and verified\n"
          ],
          "name": "stdout"
        }
      ]
    },
    {
      "cell_type": "code",
      "metadata": {
        "id": "75cEhRoj__5D",
        "colab_type": "code",
        "outputId": "37b03e8a-0d5f-4927-c6eb-57a3743adcfa",
        "colab": {
          "base_uri": "https://localhost:8080/",
          "height": 121
        }
      },
      "source": [
        "categories = [\"airplane\",\"automobile\",\"bird\",\"cat\",\"deer\",\"dog\",\"frog\",\"horse\",\"ship\",\"truck\"]\n",
        "\n",
        "diter = enumerate(train_loader)\n",
        "idx,(ims,labels) = next(diter)\n",
        "\n",
        "for i in range(len(labels)):\n",
        "  plt.subplot(1,4,i+1)\n",
        "  plt.imshow(np.transpose(ims[i]/2+0.5,(1,2,0))) #unnormalize images for viewing\n",
        "  plt.xticks([]); plt.yticks([])\n",
        "  plt.title(\"Label: %s\" % categories[labels[i]],fontsize=10)"
      ],
      "execution_count": 0,
      "outputs": [
        {
          "output_type": "display_data",
          "data": {
            "image/png": "[encoded data removed]",
            "text/plain": [
              "<Figure size 432x288 with 4 Axes>"
            ]
          },
          "metadata": {
            "tags": []
          }
        }
      ]
    },
    {
      "cell_type": "code",
      "metadata": {
        "id": "xWiCxZeHC3vK",
        "colab_type": "code",
        "outputId": "9d7868f3-4cea-44ae-fad0-5816579bdaa2",
        "colab": {
          "base_uri": "https://localhost:8080/",
          "height": 72
        }
      },
      "source": [
        "### Scratch work for finding output size of neural network ### \n",
        "a = nn.Conv2d(3,48,kernel_size=3)\n",
        "b = nn.Conv2d(48,75,kernel_size=4)\n",
        "c = nn.Conv2d(75,40,kernel_size=3)\n",
        "ppp = nn.MaxPool2d(2)\n",
        "input = torch.rand((4,3,32,32))\n",
        "\n",
        "x = F.relu(ppp(a(input)))\n",
        "print(x.size())\n",
        "\n",
        "x = F.relu(ppp(b(x)))\n",
        "print(x.size())\n",
        "\n",
        "x = F.relu(ppp(c(x)))\n",
        "print(x.size())"
      ],
      "execution_count": 0,
      "outputs": [
        {
          "output_type": "stream",
          "text": [
            "torch.Size([4, 48, 15, 15])\n",
            "torch.Size([4, 75, 6, 6])\n",
            "torch.Size([4, 40, 2, 2])\n"
          ],
          "name": "stdout"
        }
      ]
    },
    {
      "cell_type": "code",
      "metadata": {
        "id": "dp4xfTx0A1D6",
        "colab_type": "code",
        "colab": {}
      },
      "source": [
        "class Net(nn.Module):\n",
        "\n",
        "  def __init__(self):\n",
        "    super(Net,self).__init__()\n",
        "    self.conv1 = nn.Conv2d(3,48,kernel_size=3)\n",
        "    self.conv2 = nn.Conv2d(48,75,kernel_size=4)\n",
        "    self.conv3 = nn.Conv2d(75,40,kernel_size=3) #output is 2x2x40\n",
        "    self.pool = nn.MaxPool2d(2)\n",
        "    self.fc1 = nn.Linear(2*2*40,100)\n",
        "    self.fc2 = nn.Linear(100,50)\n",
        "    self.fc3 = nn.Linear(50,10)\n",
        "\n",
        "  def forward(self,x):\n",
        "    x = F.relu(self.pool(self.conv1(x)))\n",
        "    x = F.relu(self.pool(self.conv2(x)))\n",
        "    x = F.relu(self.pool(self.conv3(x)))\n",
        "    x = x.view(-1,2*2*40)\n",
        "    x = F.relu(self.fc1(x))\n",
        "    x = F.relu(self.fc2(x))\n",
        "    x = self.fc3(x)\n",
        "    return x"
      ],
      "execution_count": 0,
      "outputs": []
    },
    {
      "cell_type": "code",
      "metadata": {
        "id": "qwJe2nQkDH5P",
        "colab_type": "code",
        "colab": {}
      },
      "source": [
        "device = torch.device(\"cuda:0\")\n",
        "\n",
        "net = Net()\n",
        "net.to(device) #send to GPU \n",
        "\n",
        "criterion = nn.CrossEntropyLoss().cuda()\n",
        "optimizer = optim.SGD(net.parameters(),lr =0.001,momentum=0.9)"
      ],
      "execution_count": 0,
      "outputs": []
    },
    {
      "cell_type": "code",
      "metadata": {
        "id": "yWaj9GkbFbVX",
        "colab_type": "code",
        "outputId": "3f5a6c8e-e8bb-4319-dd43-7ad7198ac42b",
        "colab": {
          "base_uri": "https://localhost:8080/",
          "height": 364
        }
      },
      "source": [
        "for epoch in range(3):\n",
        "\n",
        "  running_loss = 0.0\n",
        "  for i,data in enumerate(train_loader):\n",
        "\n",
        "    inputs, labels = data\n",
        "    inputs, labels = inputs.to(device), labels.to(device)\n",
        "\n",
        "    optimizer.zero_grad()\n",
        "\n",
        "    outputs = net(inputs)\n",
        "    loss = criterion(outputs,labels)\n",
        "    loss.backward()\n",
        "    optimizer.step()\n",
        "    running_loss += loss.item()\n",
        "\n",
        "    if i % 2000 == 1999:\n",
        "      print('[Epoch: %d, trial: %5d] loss: %.3f' % (epoch+1, i+1, running_loss/2000))\n",
        "      running_loss = 0.0\n",
        "\n",
        "print('Done training on GPU')"
      ],
      "execution_count": 0,
      "outputs": [
        {
          "output_type": "stream",
          "text": [
            "[Epoch: 1, trial:  2000] loss: 2.264\n",
            "[Epoch: 1, trial:  4000] loss: 1.927\n",
            "[Epoch: 1, trial:  6000] loss: 1.727\n",
            "[Epoch: 1, trial:  8000] loss: 1.595\n",
            "[Epoch: 1, trial: 10000] loss: 1.481\n",
            "[Epoch: 1, trial: 12000] loss: 1.399\n",
            "[Epoch: 2, trial:  2000] loss: 1.311\n",
            "[Epoch: 2, trial:  4000] loss: 1.289\n",
            "[Epoch: 2, trial:  6000] loss: 1.246\n",
            "[Epoch: 2, trial:  8000] loss: 1.187\n",
            "[Epoch: 2, trial: 10000] loss: 1.168\n",
            "[Epoch: 2, trial: 12000] loss: 1.132\n",
            "[Epoch: 3, trial:  2000] loss: 1.036\n",
            "[Epoch: 3, trial:  4000] loss: 1.021\n",
            "[Epoch: 3, trial:  6000] loss: 1.028\n",
            "[Epoch: 3, trial:  8000] loss: 1.008\n",
            "[Epoch: 3, trial: 10000] loss: 0.999\n",
            "[Epoch: 3, trial: 12000] loss: 0.949\n",
            "Done training on GPU\n"
          ],
          "name": "stdout"
        }
      ]
    },
    {
      "cell_type": "code",
      "metadata": {
        "id": "GpMQnZB7GXmr",
        "colab_type": "code",
        "outputId": "6b70a10b-36b0-4eea-8f65-6d329db32918",
        "colab": {
          "base_uri": "https://localhost:8080/",
          "height": 265
        }
      },
      "source": [
        "#Now test the performance of the net\n",
        "#As with the other notebook, let's just test one batch first and visualize the results\n",
        "#Let's get load it from the GPU now that we're done training\n",
        "net = net.to(torch.device(\"cpu\"))\n",
        "net.eval()\n",
        "\n",
        "diter = enumerate(test_loader)\n",
        "idx,(ims,labels) = next(diter)\n",
        "\n",
        "output = net(ims)\n",
        "_,pred = torch.max(output,1)\n",
        "\n",
        "for j in range(4):\n",
        "  plt.subplot(2,2,j+1)\n",
        "  plt.imshow(np.transpose(ims[j]/2+0.5,(1,2,0)))\n",
        "  plt.xticks([]); plt.yticks([])\n",
        "  plt.title('Truth: %s  Prediction: %s' %(categories[labels[j]], categories[pred[j]]),fontsize=8)"
      ],
      "execution_count": 0,
      "outputs": [
        {
          "output_type": "display_data",
          "data": {
            "image/png": "[encoded data removed]",
            "text/plain": [
              "<Figure size 432x288 with 4 Axes>"
            ]
          },
          "metadata": {
            "tags": []
          }
        }
      ]
    },
    {
      "cell_type": "code",
      "metadata": {
        "id": "ffLFCZRtYdgz",
        "colab_type": "code",
        "outputId": "b0975fd4-c277-463a-9f1c-7b7b2f2bc4f1",
        "colab": {
          "base_uri": "https://localhost:8080/",
          "height": 218
        }
      },
      "source": [
        "correct = list(0. for j in range(10))\n",
        "total = list(0. for j in range(10))\n",
        "\n",
        "with torch.no_grad():\n",
        "  for i, data in enumerate(test_loader,0):\n",
        "\n",
        "    inputs, labels = data\n",
        "    output = net(inputs)\n",
        "    _,pred = torch.max(output,1)\n",
        "\n",
        "    for j in range(len(labels)):\n",
        "      total[labels[j]] += 1\n",
        "      correct[labels[j]] += pred[j] == labels[j]\n",
        "\n",
        "print(\"Total accuracy: %.2f%%\" %(float(100*sum(correct)/sum(total))))\n",
        "\n",
        "for i in range(10):\n",
        "  print(\"Accuracy for category %s:  %.2f%%\" % (categories[i],float(100*correct[i]/total[i])))"
      ],
      "execution_count": 0,
      "outputs": [
        {
          "output_type": "stream",
          "text": [
            "Total accuracy: 66.48\n",
            "Accuracy for category airplane:  60.10\n",
            "Accuracy for category automobile:  85.60\n",
            "Accuracy for category bird:  54.10\n",
            "Accuracy for category cat:  39.20\n",
            "Accuracy for category deer:  59.70\n",
            "Accuracy for category dog:  68.20\n",
            "Accuracy for category frog:  62.30\n",
            "Accuracy for category horse:  72.90\n",
            "Accuracy for category ship:  89.50\n",
            "Accuracy for category truck:  73.20\n"
          ],
          "name": "stdout"
        }
      ]
    },
    {
      "cell_type": "markdown",
      "metadata": {
        "id": "qFRYnI-tE1xO",
        "colab_type": "text"
      },
      "source": [
        "Loading other models: "
      ]
    },
    {
      "cell_type": "code",
      "metadata": {
        "id": "Uk0QFwK2E3nU",
        "colab_type": "code",
        "colab": {}
      },
      "source": [
        "import torchvision.models as models\n",
        "\n",
        "net = models.alexnet(pretrained=True) #this will start a download of Alexnet's 700,000,000 weights \n",
        "net = models.vgg16(pretrained=False); #another cool net"
      ],
      "execution_count": 0,
      "outputs": []
    }
  ]
}