{
  "nbformat": 4,
  "nbformat_minor": 0,
  "metadata": {
    "colab": {
      "name": "MNIST_tutorial.ipynb",
      "provenance": [],
      "collapsed_sections": [],
      "authorship_tag": "ABX9TyMrijssIA8oYh9DdSHgvlP8",
      "include_colab_link": true
    },
    "kernelspec": {
      "name": "python3",
      "display_name": "Python 3"
    },
    "accelerator": "GPU"
  },
  "cells": [
    {
      "cell_type": "markdown",
      "metadata": {
        "id": "view-in-github",
        "colab_type": "text"
      },
      "source": [
        "<a href=\"https://colab.research.google.com/github/abigelow1/NN_training_examples/blob/master/MNIST_tutorial.ipynb\" target=\"_parent\"><img src=\"https://colab.research.google.com/assets/colab-badge.svg\" alt=\"Open In Colab\"/></a>"
      ]
    },
    {
      "cell_type": "markdown",
      "metadata": {
        "id": "Ul6fDRMxZ9Pt",
        "colab_type": "text"
      },
      "source": [
        "*Warning:* if you are idle for longer than 60 minutes in this notebook or 12 hours have elapsed, the server will reset and you'll have to reopen the notebook. \n",
        "\n",
        "This is a notebook which will walk you through creating a neural network which can recognize handrwitten digits with (hopefully) high precision! This dataset is called **MNIST** and consists of the thousands of pictures of handwritten digits, 0-9, and annnotated by humans.  \n",
        "\n",
        " I'm going to use PyTorch for this tutorial because I think it's really easy to use and install on your own machine if you want to continue machine learning! This notebook is GPU enabled which greatly speeds things up. Unfortunately if you have a Macbook, it's very unlikely you have a GPU which can train neural networks. \n",
        "\n",
        " Let's start by importing things we'll need. Almost every program uses numpy, graphs can be made with matplotlib"
      ]
    },
    {
      "cell_type": "code",
      "metadata": {
        "id": "vz2gvpz2Z8Fs",
        "colab_type": "code",
        "colab": {}
      },
      "source": [
        "import torch #at the beginning of every machine learning notebook\n",
        "import torchvision\n",
        "import torchvision.transforms as transforms #for image manipulation -- makes the net more generalizable/better trained\n",
        "\n",
        "import numpy as np\n",
        "import matplotlib.pyplot as plt"
      ],
      "execution_count": 0,
      "outputs": []
    },
    {
      "cell_type": "code",
      "metadata": {
        "id": "qfPVGOCGpZZY",
        "colab_type": "code",
        "colab": {}
      },
      "source": [
        "transform = transforms.Compose([transforms.ToTensor(), transforms.Normalize((0.1307,),(0.3081,))])\n",
        "\n",
        "#########################\n",
        "#When you train neural networks, you modify images so the mean pixel value is 0 and the standard deviation is 1\n",
        "#Now all images will have the same mean pixel value and the same range of values in the image.\n",
        "#If we don't do this, certain images may result in higher losses, disrupting training \n",
        "#########################"
      ],
      "execution_count": 0,
      "outputs": []
    },
    {
      "cell_type": "code",
      "metadata": {
        "id": "OnLjFT3_p6Fl",
        "colab_type": "code",
        "colab": {}
      },
      "source": [
        "#### DATA LOADING ####\n",
        "#Luckily, pytorch has already compiled MNIST data for us! You can make a custom dataset, but that takes a bit more time and effort\n",
        "#If you want to make your own dataset, let me know and I can give you some basic code to do so\n",
        "\n",
        "#We want a set of images to train and a *completely different* set of images to validate/test on. This ensures the net doesn't overfit the data presented\n",
        "\n",
        "##This pulls the training data ##\n",
        "train_set = torchvision.datasets.MNIST('./home/',train=True,transform=transform,download=True) \n",
        "train_loader = torch.utils.data.DataLoader(train_set,batch_size=4,shuffle=True)\n",
        "\n",
        "##Test data##\n",
        "test_set = torchvision.datasets.MNIST('./home/',train=False,transform=transform,download=True)\n",
        "test_loader = torch.utils.data.DataLoader(test_set,batch_size=4,shuffle=True)\n",
        "\n",
        "#Now we have these 'loaders' which feed data into our neural network. Because we're going to utilize a GPU,\n",
        "#we want to batch images and apply gradient descent in chunks rather than image by image.\n",
        "#You could, but there are 15,000 training images and 2500 test images\n",
        "#Each image is 28x28x1 (this will be useful later). i.e., no RGB values\n"
      ],
      "execution_count": 0,
      "outputs": []
    },
    {
      "cell_type": "markdown",
      "metadata": {
        "id": "-lVW655ntZPi",
        "colab_type": "text"
      },
      "source": [
        "Now let's look at some of our data and what we're feeding our network. It's always a good idea to visualize your data and your process as you go along. It's important for debugging. Even if you code regularly, you'll make errors and the sooner you spot them, the happier you'll be. "
      ]
    },
    {
      "cell_type": "code",
      "metadata": {
        "id": "f_ji0eGPtnti",
        "colab_type": "code",
        "outputId": "be03e69b-f188-4e63-8303-98827f81a83c",
        "colab": {
          "base_uri": "https://localhost:8080/",
          "height": 268
        }
      },
      "source": [
        "ex_images = enumerate(test_loader)\n",
        "idx,(img,label) = next(ex_images) #pull four examples (batch_size=4 ) from the test set\n",
        "#Every time you run this cell, you'll get 4 new images. Take a look at some of the images\n",
        "#As you can see, some people are absolutely *terrible* at writing legibly\n",
        "\n",
        "for i in range(np.shape(img)[0]):\n",
        "\n",
        "  plt.subplot(2,2,i+1)\n",
        "  plt.imshow(img[i][0],cmap='gray')\n",
        "  plt.title('Label: {}'.format(label[i]))\n",
        "  plt.xticks([]); plt.yticks([])\n"
      ],
      "execution_count": 0,
      "outputs": [
        {
          "output_type": "display_data",
          "data": {
            "image/png": "[encoded data removed]",
            "text/plain": [
              "<Figure size 432x288 with 4 Axes>"
            ]
          },
          "metadata": {
            "tags": []
          }
        }
      ]
    },
    {
      "cell_type": "markdown",
      "metadata": {
        "id": "4_5x3Nl2wCzk",
        "colab_type": "text"
      },
      "source": [
        "Now it's time to build a neural network! You'll need to think carefully if you want to change parameters here, but I will try to guide you through the parameters and how to set them to get a functional network! "
      ]
    },
    {
      "cell_type": "code",
      "metadata": {
        "id": "cCPQ7s5QvTyq",
        "colab_type": "code",
        "colab": {}
      },
      "source": [
        "import torch.nn as nn #for neural network layers\n",
        "import torch.nn.functional as F #for easily performing operations like ReLU (linear rectification)\n",
        "import torch.optim as optim #an optimizer which will perform gradient descent\n",
        "\n",
        "#To create a neural network in pytorch, you create a class (in this case called 'Net'-- note capitalization, this is typical in defining classes in Python)\n",
        "#init is a function ('def') which just assigns a neural network structure to a variable 'self' -- the 'Net' object\n",
        "#We will have 3 convolutional layers and two fully connected layers. Why? I dunno. \n",
        "#Conv layers will also have pooling and linear rectification, see cell below for\n",
        "#scratch work on the network output sizes\n",
        "\n",
        "class Net(nn.Module):\n",
        "\n",
        "  def __init__(self):\n",
        "    super(Net,self).__init__() #super means that we're taking the 'init' function of nn.Module and keeping it.\n",
        "    self.conv1 = nn.Conv2d(1,12,kernel_size=3) #images are 28x28x1, so first arg = 1; I want 12 filters, so second arg is 12 (arbitrary). Kernel size = how big of a 'Receptive field'\n",
        "    self.conv2 = nn.Conv2d(12,20,kernel_size=4) #12 filters previous layer, 20 filters this layer (arbitrary number)\n",
        "    self.conv3 = nn.Conv2d(20,15,kernel_size=3) #Again, previous layer has 20 filters, now I set to 15. output is 4x4x15 (to figure out how pooling and convolving change image size, take a look at code block below)\n",
        "    self.pool = nn.MaxPool2d(2) #pool over a 2x2 area - just take maximum response\n",
        "    self.fc1 = nn.Linear(4*4*15,50) #input size = output size of conv3. Output size = arbitrary. \n",
        "    self.fc2 = nn.Linear(50,10) #output layer, 10 categories, so must end with size = 10\n",
        "\n",
        "  \n",
        "  def forward(self,x):\n",
        "    x = F.relu(self.pool(self.conv1(x))) #F.relu is linear rectification. Pool is from maxpool above. \n",
        "    x = F.relu(self.conv2(x))\n",
        "    x = F.relu(self.pool(self.conv3(x)))\n",
        "    x = x.view(-1,4*4*15) #flatten from 3d to 2d\n",
        "    x = F.relu(self.fc1(x))\n",
        "    x = F.relu(self.fc2(x))\n",
        "    return x\n"
      ],
      "execution_count": 0,
      "outputs": []
    },
    {
      "cell_type": "code",
      "metadata": {
        "id": "HdvN1eea6A66",
        "colab_type": "code",
        "outputId": "7bbc5cb7-0813-4eea-8066-77ce86017c96",
        "colab": {
          "base_uri": "https://localhost:8080/",
          "height": 92
        }
      },
      "source": [
        "## To figure out layer size,just make the layers as below and check the size of x which is the output of conv3\n",
        "## You can only make so many layers though, as each layer is decreasing the size of the representation via pooling\n",
        "\n",
        "pool = nn.MaxPool2d((2,2)) #pool over a 2x2 window\n",
        "a = nn.Conv2d(1,12,kernel_size=3)\n",
        "b = nn.Conv2d(12,20,kernel_size=4)\n",
        "c = nn.Conv2d(20,15,kernel_size=3)\n",
        "d = nn.Linear(4*4*15,50)\n",
        "x = F.relu(pool(a(img)))\n",
        "print(x.size())\n",
        "x = F.relu(b(x))\n",
        "print(x.size())\n",
        "x = F.relu(pool(c(x)))\n",
        "print(x.size())\n",
        "x = x.view(-1,4*4*15)\n",
        "\n",
        "\n",
        "print(x.size())\n",
        "#The first number is batch size, the second number is num filters, and the last two numbers are the size of the convolved image (13x13, 10x10,etc.)"
      ],
      "execution_count": 0,
      "outputs": [
        {
          "output_type": "stream",
          "text": [
            "torch.Size([4, 12, 13, 13])\n",
            "torch.Size([4, 20, 10, 10])\n",
            "torch.Size([4, 15, 4, 4])\n",
            "torch.Size([4, 240])\n"
          ],
          "name": "stdout"
        }
      ]
    },
    {
      "cell_type": "code",
      "metadata": {
        "id": "5tURArES6G6j",
        "colab_type": "code",
        "outputId": "d2d79408-2568-43eb-91d0-a691b40b6114",
        "colab": {
          "base_uri": "https://localhost:8080/",
          "height": 265
        }
      },
      "source": [
        "net = Net()\n",
        "net.train() #nets have two modes -- train and test ('eval') -- train means the weights change via gradient descent, eval means they don't\n",
        "criterion = nn.CrossEntropyLoss() #or MSE loss, but this is a standard loss formula. Details not important. \n",
        "\n",
        "#Here is where we set a bunch of super important parameters. On line 1, we instantiate a 'Net' object\n",
        "#Line 2 determines what our loss function is. CrossEntropy is a good way to go\n",
        "#Another popular criterion include MSELoss\n",
        "\n",
        "#Let's see how our net performs at baseline. It should be around chance/this shouldn't be able to do anything well. \n",
        "\n",
        "\n",
        "data_now = iter(test_loader)\n",
        "ims, labels = data_now.next()\n",
        "out_now = net(ims)\n",
        "_,pred = torch.max(out_now,1)\n",
        "\n",
        "for i in range(4):\n",
        "  plt.subplot(2,2,i+1)\n",
        "  plt.imshow(ims[i][0],cmap='gray')\n",
        "  plt.xticks([]); plt.yticks([])\n",
        "  plt.title('Ground truth: %d     Net output: %d' % (labels[i],pred[i]),fontsize=8)\n"
      ],
      "execution_count": 0,
      "outputs": [
        {
          "output_type": "display_data",
          "data": {
            "image/png": "[encoded data removed]",
            "text/plain": [
              "<Figure size 432x288 with 4 Axes>"
            ]
          },
          "metadata": {
            "tags": []
          }
        }
      ]
    },
    {
      "cell_type": "markdown",
      "metadata": {
        "id": "HornYGA396wb",
        "colab_type": "text"
      },
      "source": [
        "Pretty poor performance untrained. Not a surprise. Now it's time to train the network! "
      ]
    },
    {
      "cell_type": "code",
      "metadata": {
        "id": "w4zrGkpm8bSG",
        "colab_type": "code",
        "colab": {}
      },
      "source": [
        "\n",
        "optimizer = optim.SGD(net.parameters(),lr = 0.001, momentum =0.9)\n",
        "\n",
        "for epoch in range(2):\n",
        "\n",
        "  running_loss = 0.0\n",
        "  for i, data in enumerate(train_loader,0):\n",
        "\n",
        "    inputs, labels = data\n",
        "\n",
        "    optimizer.zero_grad()\n",
        "\n",
        "    outputs = net(inputs)\n",
        "    loss = criterion(outputs,labels)\n",
        "    loss.backward()\n",
        "    optimizer.step()\n",
        "\n",
        "    running_loss += loss.item()\n",
        "    if i%2000 == 1999:\n",
        "      print('[%d,%5d] loss: %.3f' % (epoch+1, i+1, running_loss/2000))\n",
        "      running_loss = 0.0\n",
        "\n",
        "print('Done training net')"
      ],
      "execution_count": 0,
      "outputs": []
    },
    {
      "cell_type": "code",
      "metadata": {
        "id": "QkZ7f2IwB1Sj",
        "colab_type": "code",
        "outputId": "f7dce8fc-f3e3-4137-9425-62686d6f805c",
        "colab": {
          "base_uri": "https://localhost:8080/",
          "height": 265
        }
      },
      "source": [
        "#Now that we're done training, let's see how it does with a test example! \n",
        "net.eval()\n",
        "\n",
        "data_now = iter(test_loader)\n",
        "ims, labels = data_now.next()\n",
        "out_now = net(ims)\n",
        "_,pred = torch.max(out_now,1)\n",
        "\n",
        "for i in range(4):\n",
        "  plt.subplot(2,2,i+1)\n",
        "  plt.imshow(ims[i][0],cmap='gray')\n",
        "  plt.xticks([]); plt.yticks([])\n",
        "  plt.title('Ground truth: %d     Net output: %d' % (labels[i],pred[i]),fontsize=8)"
      ],
      "execution_count": 0,
      "outputs": [
        {
          "output_type": "display_data",
          "data": {
            "image/png": "[encoded data removed]",
            "text/plain": [
              "<Figure size 432x288 with 4 Axes>"
            ]
          },
          "metadata": {
            "tags": []
          }
        }
      ]
    },
    {
      "cell_type": "code",
      "metadata": {
        "id": "VIIgZRFhEKhc",
        "colab_type": "code",
        "outputId": "d30cc774-3adc-42e8-cbdb-273ca0440bd4",
        "colab": {
          "base_uri": "https://localhost:8080/",
          "height": 36
        }
      },
      "source": [
        "#Now let's test on all images! \n",
        "\n",
        "correct = 0\n",
        "total = 0\n",
        "with torch.no_grad():\n",
        "  for i,data in enumerate(test_loader,0):\n",
        "\n",
        "    inputs, labels = data\n",
        "    outputs = net(inputs)\n",
        "    _,predicted = torch.max(outputs.data,1)\n",
        "    total += labels.size(0)\n",
        "    correct += (predicted == labels).sum().item()\n",
        "\n",
        "\n",
        "print('Accuracy on %d test images:   %.1f %%' % (total,100*correct/total))"
      ],
      "execution_count": 0,
      "outputs": [
        {
          "output_type": "stream",
          "text": [
            "Accuracy on 10000 test images:   98.6 %\n"
          ],
          "name": "stdout"
        }
      ]
    },
    {
      "cell_type": "code",
      "metadata": {
        "id": "D5Xy2zzHKMak",
        "colab_type": "code",
        "outputId": "a57b837d-4628-4ff8-e697-81a2fc30acdc",
        "colab": {
          "base_uri": "https://localhost:8080/",
          "height": 205
        }
      },
      "source": [
        "\n",
        "correct = list(0. for i in range(10))\n",
        "total = list(0. for i in range(10)) #make two empty matrices to total correct and total for each class (0-9)\n",
        "\n",
        "with torch.no_grad():\n",
        "  for i, data in enumerate(test_loader,0):\n",
        "\n",
        "    inputs, labels = data\n",
        "    outputs = net(inputs)\n",
        "    _,predicted = torch.max(outputs.data,1)\n",
        "\n",
        "    for j in range(labels.size(0)): # for each in batch\n",
        "      total[labels[j]] += 1\n",
        "      correct[labels[j]] += predicted[j] == labels[j]\n",
        "\n",
        "for i in range(10):\n",
        "  print('Accuracy for the number %d:  %.2f'% (i,correct[i]/total[i]))"
      ],
      "execution_count": 0,
      "outputs": [
        {
          "output_type": "stream",
          "text": [
            "Accuracy for the number 0:  0.99\n",
            "Accuracy for the number 1:  0.99\n",
            "Accuracy for the number 2:  0.99\n",
            "Accuracy for the number 3:  0.99\n",
            "Accuracy for the number 4:  0.98\n",
            "Accuracy for the number 5:  0.98\n",
            "Accuracy for the number 6:  0.97\n",
            "Accuracy for the number 7:  0.99\n",
            "Accuracy for the number 8:  0.98\n",
            "Accuracy for the number 9:  0.98\n"
          ],
          "name": "stdout"
        }
      ]
    }
  ]
}